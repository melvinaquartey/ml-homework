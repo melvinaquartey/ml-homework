{
 "cells": [
  {
   "cell_type": "markdown",
   "id": "570f5882",
   "metadata": {
    "id": "570f5882"
   },
   "source": [
    "Problem 2\n",
    "\n"
   ]
  },
  {
   "cell_type": "code",
   "execution_count": 59,
   "id": "879c516d",
   "metadata": {
    "id": "879c516d"
   },
   "outputs": [],
   "source": [
    "import numpy as np\n",
    "from collections import Counter\n",
    "from sklearn.datasets import load_iris\n",
    "from sklearn.model_selection import train_test_split\n",
    "from sklearn.metrics import classification_report\n",
    "from sklearn.metrics import accuracy_score\n",
    "from sklearn.metrics import confusion_matrix\n",
    "import matplotlib.pyplot as plt\n",
    "import seaborn as sns\n",
    "import pandas as pd\n",
    "from tensorflow.keras.datasets import mnist\n"
   ]
  },
  {
   "cell_type": "markdown",
   "id": "1199de03",
   "metadata": {
    "id": "1199de03"
   },
   "source": [
    "### Prepare the data"
   ]
  },
  {
   "cell_type": "code",
   "execution_count": 60,
   "id": "ec58dbd0",
   "metadata": {
    "id": "ec58dbd0"
   },
   "outputs": [
    {
     "name": "stdout",
     "output_type": "stream",
     "text": [
      "training images shapes:  (60000, 28, 28)\n",
      "testing images shapes:  (10000, 28, 28)\n",
      "training targets shapes:  (60000,)\n",
      "testing targets shapes:  (10000,)\n"
     ]
    }
   ],
   "source": [
    "from keras.datasets import mnist\n",
    "(x_train, y_train), (x_test, y_test) = mnist.load_data()\n",
    "print(\"training images shapes: \", x_train.shape)\n",
    "print(\"testing images shapes: \", x_test.shape)\n",
    "print(\"training targets shapes: \", y_train.shape)\n",
    "print(\"testing targets shapes: \", y_test.shape)\n",
    "#plt.imshow(x_train[0], cmap=plt.cm.gray_r, interpolation=\"nearest\")\n",
    "#print(x_train[0])\n",
    "#plt.show()"
   ]
  },
  {
   "cell_type": "code",
   "execution_count": 61,
   "id": "0c714cf8",
   "metadata": {},
   "outputs": [
    {
     "name": "stdout",
     "output_type": "stream",
     "text": [
      "                                               Image  Digit\n",
      "0  [0, 0, 0, 0, 0, 0, 0, 0, 0, 0, 0, 0, 0, 0, 0, ...      0\n",
      "1  [0, 0, 0, 0, 0, 0, 0, 0, 0, 0, 0, 0, 0, 0, 0, ...      4\n",
      "2  [0, 0, 0, 0, 0, 0, 0, 0, 0, 0, 0, 0, 0, 0, 0, ...      2\n",
      "3  [0, 0, 0, 0, 0, 0, 0, 0, 0, 0, 0, 0, 0, 0, 0, ...      4\n",
      "4  [0, 0, 0, 0, 0, 0, 0, 0, 0, 0, 0, 0, 0, 0, 0, ...      6\n",
      "5  [0, 0, 0, 0, 0, 0, 0, 0, 0, 0, 0, 0, 0, 0, 0, ...      2\n",
      "6  [0, 0, 0, 0, 0, 0, 0, 0, 0, 0, 0, 0, 0, 0, 0, ...      8\n",
      "7  [0, 0, 0, 0, 0, 0, 0, 0, 0, 0, 0, 0, 0, 0, 0, ...      6\n",
      "8  [0, 0, 0, 0, 0, 0, 0, 0, 0, 0, 0, 0, 0, 0, 0, ...      4\n",
      "9  [0, 0, 0, 0, 0, 0, 0, 0, 0, 0, 0, 0, 0, 0, 0, ...      0\n"
     ]
    }
   ],
   "source": [
    "# Creating new sets of even training and testing data\n",
    "even_digits = [i for i in range(len(y_train)) if y_train[i] % 2 == 0]\n",
    "even_x_train = x_train[even_digits]\n",
    "even_y_train= y_train[even_digits]\n",
    "\n",
    "even_test_digits = [i for i in range(len(y_test)) if y_test[i] % 2 == 0]\n",
    "even_x_test = x_test[even_test_digits]\n",
    "even_y_test= y_test[even_test_digits]\n",
    "\n",
    "# Flatten 2D training arrays and create a DataFrame\n",
    "even_mnist_df = pd.DataFrame({\n",
    "    'Image': [img.flatten() for img in x_train[even_digits]],\n",
    "    'Digit': y_train[even_digits]})\n",
    "\n",
    "# Display the resulting DataFrame\n",
    "print(even_mnist_df.head(10))"
   ]
  },
  {
   "cell_type": "markdown",
   "id": "b2e143e2",
   "metadata": {
    "id": "b2e143e2"
   },
   "source": [
    "### attempting to pairplot"
   ]
  },
  {
   "cell_type": "code",
   "execution_count": 62,
   "id": "848308fc",
   "metadata": {},
   "outputs": [],
   "source": [
    "Label = [\"Zero\",\"One\",\"Two\",\"Three\",\"Four\",\"Five\",\"Six\",\"Seven\", \"Eight\", \"Nine\"]\n",
    "named_targets = []\n",
    "\n",
    "for elm in even_mnist_df['Digit'].to_list():\n",
    "    named_targets.append(Label[elm])\n",
    "    \n",
    "even_mnist_df['Label'] = named_targets"
   ]
  },
  {
   "cell_type": "code",
   "execution_count": 63,
   "id": "810cd514",
   "metadata": {},
   "outputs": [
    {
     "data": {
      "text/html": [
       "<div>\n",
       "<style scoped>\n",
       "    .dataframe tbody tr th:only-of-type {\n",
       "        vertical-align: middle;\n",
       "    }\n",
       "\n",
       "    .dataframe tbody tr th {\n",
       "        vertical-align: top;\n",
       "    }\n",
       "\n",
       "    .dataframe thead th {\n",
       "        text-align: right;\n",
       "    }\n",
       "</style>\n",
       "<table border=\"1\" class=\"dataframe\">\n",
       "  <thead>\n",
       "    <tr style=\"text-align: right;\">\n",
       "      <th></th>\n",
       "      <th>Image</th>\n",
       "      <th>Digit</th>\n",
       "      <th>Label</th>\n",
       "    </tr>\n",
       "  </thead>\n",
       "  <tbody>\n",
       "    <tr>\n",
       "      <th>0</th>\n",
       "      <td>[0, 0, 0, 0, 0, 0, 0, 0, 0, 0, 0, 0, 0, 0, 0, ...</td>\n",
       "      <td>0</td>\n",
       "      <td>Zero</td>\n",
       "    </tr>\n",
       "    <tr>\n",
       "      <th>1</th>\n",
       "      <td>[0, 0, 0, 0, 0, 0, 0, 0, 0, 0, 0, 0, 0, 0, 0, ...</td>\n",
       "      <td>4</td>\n",
       "      <td>Four</td>\n",
       "    </tr>\n",
       "    <tr>\n",
       "      <th>2</th>\n",
       "      <td>[0, 0, 0, 0, 0, 0, 0, 0, 0, 0, 0, 0, 0, 0, 0, ...</td>\n",
       "      <td>2</td>\n",
       "      <td>Two</td>\n",
       "    </tr>\n",
       "    <tr>\n",
       "      <th>3</th>\n",
       "      <td>[0, 0, 0, 0, 0, 0, 0, 0, 0, 0, 0, 0, 0, 0, 0, ...</td>\n",
       "      <td>4</td>\n",
       "      <td>Four</td>\n",
       "    </tr>\n",
       "    <tr>\n",
       "      <th>4</th>\n",
       "      <td>[0, 0, 0, 0, 0, 0, 0, 0, 0, 0, 0, 0, 0, 0, 0, ...</td>\n",
       "      <td>6</td>\n",
       "      <td>Six</td>\n",
       "    </tr>\n",
       "    <tr>\n",
       "      <th>...</th>\n",
       "      <td>...</td>\n",
       "      <td>...</td>\n",
       "      <td>...</td>\n",
       "    </tr>\n",
       "    <tr>\n",
       "      <th>29487</th>\n",
       "      <td>[0, 0, 0, 0, 0, 0, 0, 0, 0, 0, 0, 0, 0, 0, 0, ...</td>\n",
       "      <td>8</td>\n",
       "      <td>Eight</td>\n",
       "    </tr>\n",
       "    <tr>\n",
       "      <th>29488</th>\n",
       "      <td>[0, 0, 0, 0, 0, 0, 0, 0, 0, 0, 0, 0, 0, 0, 0, ...</td>\n",
       "      <td>2</td>\n",
       "      <td>Two</td>\n",
       "    </tr>\n",
       "    <tr>\n",
       "      <th>29489</th>\n",
       "      <td>[0, 0, 0, 0, 0, 0, 0, 0, 0, 0, 0, 0, 0, 0, 0, ...</td>\n",
       "      <td>8</td>\n",
       "      <td>Eight</td>\n",
       "    </tr>\n",
       "    <tr>\n",
       "      <th>29490</th>\n",
       "      <td>[0, 0, 0, 0, 0, 0, 0, 0, 0, 0, 0, 0, 0, 0, 0, ...</td>\n",
       "      <td>6</td>\n",
       "      <td>Six</td>\n",
       "    </tr>\n",
       "    <tr>\n",
       "      <th>29491</th>\n",
       "      <td>[0, 0, 0, 0, 0, 0, 0, 0, 0, 0, 0, 0, 0, 0, 0, ...</td>\n",
       "      <td>8</td>\n",
       "      <td>Eight</td>\n",
       "    </tr>\n",
       "  </tbody>\n",
       "</table>\n",
       "<p>29492 rows × 3 columns</p>\n",
       "</div>"
      ],
      "text/plain": [
       "                                                   Image  Digit  Label\n",
       "0      [0, 0, 0, 0, 0, 0, 0, 0, 0, 0, 0, 0, 0, 0, 0, ...      0   Zero\n",
       "1      [0, 0, 0, 0, 0, 0, 0, 0, 0, 0, 0, 0, 0, 0, 0, ...      4   Four\n",
       "2      [0, 0, 0, 0, 0, 0, 0, 0, 0, 0, 0, 0, 0, 0, 0, ...      2    Two\n",
       "3      [0, 0, 0, 0, 0, 0, 0, 0, 0, 0, 0, 0, 0, 0, 0, ...      4   Four\n",
       "4      [0, 0, 0, 0, 0, 0, 0, 0, 0, 0, 0, 0, 0, 0, 0, ...      6    Six\n",
       "...                                                  ...    ...    ...\n",
       "29487  [0, 0, 0, 0, 0, 0, 0, 0, 0, 0, 0, 0, 0, 0, 0, ...      8  Eight\n",
       "29488  [0, 0, 0, 0, 0, 0, 0, 0, 0, 0, 0, 0, 0, 0, 0, ...      2    Two\n",
       "29489  [0, 0, 0, 0, 0, 0, 0, 0, 0, 0, 0, 0, 0, 0, 0, ...      8  Eight\n",
       "29490  [0, 0, 0, 0, 0, 0, 0, 0, 0, 0, 0, 0, 0, 0, 0, ...      6    Six\n",
       "29491  [0, 0, 0, 0, 0, 0, 0, 0, 0, 0, 0, 0, 0, 0, 0, ...      8  Eight\n",
       "\n",
       "[29492 rows x 3 columns]"
      ]
     },
     "metadata": {},
     "output_type": "display_data"
    }
   ],
   "source": [
    "display(even_mnist_df)"
   ]
  },
  {
   "cell_type": "code",
   "execution_count": 64,
   "id": "359683b4",
   "metadata": {
    "colab": {
     "base_uri": "https://localhost:8080/",
     "height": 1000
    },
    "id": "359683b4",
    "outputId": "03ed8276-b987-49ae-a978-7c4ed3dd9488",
    "scrolled": true
   },
   "outputs": [
    {
     "name": "stderr",
     "output_type": "stream",
     "text": [
      "C:\\Users\\melvi\\anaconda3\\Lib\\site-packages\\seaborn\\axisgrid.py:118: UserWarning: The figure layout has changed to tight\n",
      "  self._figure.tight_layout(*args, **kwargs)\n"
     ]
    },
    {
     "data": {
      "image/png": "[encoded data removed]",
      "text/plain": [
       "<Figure size 298.736x250 with 2 Axes>"
      ]
     },
     "metadata": {},
     "output_type": "display_data"
    }
   ],
   "source": [
    "sns.pairplot(even_mnist_df, hue='Label')\n",
    "plt.show()"
   ]
  },
  {
   "cell_type": "markdown",
   "id": "8ba701ed",
   "metadata": {},
   "source": [
    "### As can be seen from my attempt, pairplot is not effective in visualizing this data. I think this is because it contains too many features for each data point (28x28), and so it is not feasible to visualize all pairs of these features, and even if we could, it would be hard to interpret."
   ]
  },
  {
   "cell_type": "code",
   "execution_count": 65,
   "id": "2f3ca8e1",
   "metadata": {},
   "outputs": [
    {
     "data": {
      "image/png": "[encoded data removed]",
      "text/plain": [
       "<Figure size 1000x500 with 10 Axes>"
      ]
     },
     "metadata": {},
     "output_type": "display_data"
    }
   ],
   "source": [
    "\n",
    "# Visualizing a few images instead:\n",
    "plt.figure(figsize=(10, 5))\n",
    "for i in range(10):\n",
    "    plt.subplot(1, 10, i + 1)\n",
    "    plt.imshow(even_x_train[i], cmap='gray')\n",
    "    plt.title(f\"Label: {even_y_train[i]}\")\n",
    "    plt.axis('off')\n",
    "\n",
    "plt.show()"
   ]
  },
  {
   "cell_type": "markdown",
   "id": "6fbb4bfd",
   "metadata": {
    "id": "6fbb4bfd"
   },
   "source": [
    "## data preparation is complete (on to algorithms)"
   ]
  },
  {
   "cell_type": "code",
   "execution_count": 68,
   "id": "28840475",
   "metadata": {
    "colab": {
     "base_uri": "https://localhost:8080/"
    },
    "id": "28840475",
    "outputId": "413e334e-f894-4778-f2b4-5dcc5c1bb14e"
   },
   "outputs": [
    {
     "name": "stdout",
     "output_type": "stream",
     "text": [
      "0.7862362971985384\n"
     ]
    }
   ],
   "source": [
    "class My_KNNClassifier:\n",
    "    def __init__(self, k=3):\n",
    "        self.k = k\n",
    "    def fit(self, even_x_train, even_y_train):\n",
    "        self.even_x_train = even_x_train\n",
    "        self.even_y_train = even_y_train\n",
    "    def predict(self, even_x_test):\n",
    "        predictions = []\n",
    "        for i in range(even_x_test.shape[0]):\n",
    "            predictions.append(self._knn_classifier(even_x_test[i]))\n",
    "        return predictions\n",
    "    def _knn_classifier(self, even_x_test):\n",
    "        distances, targets = [], []\n",
    "        for i in range(self.even_x_train.shape[0]):\n",
    "            distance = np.linalg.norm(self.even_x_train[i]-even_x_test)\n",
    "            distances.append([distance, i])\n",
    "        distances = sorted(distances)\n",
    "        for i in range(self.k):\n",
    "            index = distances[i][1]\n",
    "            targets.append(self.even_y_train[index])\n",
    "        return max(targets, key=targets.count)\n",
    "\n",
    "model = My_KNNClassifier()\n",
    "model.fit(even_x_train, even_y_train)\n",
    "preds = model.predict(even_x_test)\n",
    "print(accuracy_score(even_y_test, preds))"
   ]
  },
  {
   "cell_type": "code",
   "execution_count": 72,
   "id": "73330b44",
   "metadata": {
    "colab": {
     "base_uri": "https://localhost:8080/",
     "height": 687
    },
    "id": "73330b44",
    "outputId": "7667efc9-3613-4619-f461-c6cc3e39a6a3"
   },
   "outputs": [
    {
     "name": "stdout",
     "output_type": "stream",
     "text": [
      "              precision    recall  f1-score   support\n",
      "\n",
      "           0       0.93      0.93      0.93       980\n",
      "           2       0.89      0.77      0.83      1032\n",
      "           4       0.57      0.97      0.72       982\n",
      "           6       0.87      0.90      0.89       958\n",
      "           8       0.88      0.36      0.51       974\n",
      "\n",
      "    accuracy                           0.79      4926\n",
      "   macro avg       0.83      0.79      0.77      4926\n",
      "weighted avg       0.83      0.79      0.77      4926\n",
      "\n"
     ]
    },
    {
     "data": {
      "image/png": "[encoded data removed]",
      "text/plain": [
       "<Figure size 640x480 with 2 Axes>"
      ]
     },
     "metadata": {},
     "output_type": "display_data"
    }
   ],
   "source": [
    "\n",
    "cm = confusion_matrix(even_y_test, preds)\n",
    "ax = sns.heatmap(cm,linewidths=2, annot=True, cmap='viridis', cbar=True);\n",
    "\n",
    "ax.set_xticklabels(np.unique(even_y_test));\n",
    "ax.set_yticklabels(np.unique(even_y_test));\n",
    "plt.xlabel('Predicted Class');\n",
    "plt.ylabel('Actual Class');\n",
    "plt.xticks(rotation=45);\n",
    "plt.yticks(rotation=45);\n",
    "plt.title(' Classification results', fontsize='medium', fontweight='bold');\n",
    "print(classification_report(even_y_test, model.predict(even_x_test)))"
   ]
  },
  {
   "cell_type": "markdown",
   "id": "15128645",
   "metadata": {
    "id": "15128645"
   },
   "source": [
    "### 860 sixes were correctly classified"
   ]
  },
  {
   "cell_type": "code",
   "execution_count": null,
   "id": "fd4769cb",
   "metadata": {
    "id": "fd4769cb"
   },
   "outputs": [],
   "source": []
  }
 ],
 "metadata": {
  "colab": {
   "provenance": []
  },
  "kernelspec": {
   "display_name": "Python 3 (ipykernel)",
   "language": "python",
   "name": "python3"
  },
  "language_info": {
   "codemirror_mode": {
    "name": "ipython",
    "version": 3
   },
   "file_extension": ".py",
   "mimetype": "text/x-python",
   "name": "python",
   "nbconvert_exporter": "python",
   "pygments_lexer": "ipython3",
   "version": "3.11.5"
  }
 },
 "nbformat": 4,
 "nbformat_minor": 5
}
